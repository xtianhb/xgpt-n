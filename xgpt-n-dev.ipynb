{
 "cells": [
  {
   "cell_type": "code",
   "execution_count": 35,
   "id": "350d270f",
   "metadata": {},
   "outputs": [],
   "source": [
    "import torch\n",
    "import torch.nn as nn\n",
    "from torch.nn import functional as F"
   ]
  },
  {
   "cell_type": "code",
   "execution_count": null,
   "id": "0725d424-18f8-4bf0-93cb-b5ea5ca00429",
   "metadata": {},
   "outputs": [],
   "source": [
    "file_path=\"data/quijote.txt\"\n",
    "with open(file_path, \"r\", encoding='utf-8') as fd:\n",
    "    text = fd.read()"
   ]
  },
  {
   "cell_type": "code",
   "execution_count": 37,
   "id": "da22dcac-0b38-4246-9538-260feb3d814b",
   "metadata": {},
   "outputs": [
    {
     "name": "stdout",
     "output_type": "stream",
     "text": [
      "Lenght of the dataset in characters: 2062750\n"
     ]
    }
   ],
   "source": [
    "print(f\"Lenght of the dataset in characters: {len(text)}\")"
   ]
  },
  {
   "cell_type": "code",
   "execution_count": 38,
   "id": "f1a2c3e9-2ef2-4351-8dc3-ef84c1187ae6",
   "metadata": {},
   "outputs": [
    {
     "name": "stdout",
     "output_type": "stream",
     "text": [
      "Primera parte del ingenioso hidalgo don Quijote de la Mancha\n",
      "Capítulo primero. Que trata de la condición y ejercicio del famoso hidalgo\n",
      "don Quijote de la Mancha\n",
      "En un lugar de la Mancha, de cuyo nombre no quiero acordarme, no ha mucho\n",
      "tiempo que vivía un hidalgo de los de lanza en astillero, adarga antigua,\n",
      "rocín flaco y galgo corredor. Una olla de algo más vaca que carnero,\n",
      "salpicón las más noches, duelos y quebrantos los sábados, lantejas los\n",
      "viernes, algún palomino de añadidura los domingos, consumían las tres\n",
      "partes de su hacienda. El resto della concluían sayo de velarte, calzas de\n",
      "velludo para las fiestas, con sus pantuflos de lo mesmo, y los días de\n",
      "entresemana se honraba con su vellorí de lo más fino. Tenía en su casa una\n",
      "ama que pasaba de los cuarenta, y una sobrina que no llegaba a los veinte,\n",
      "y un mozo de campo y plaza, que así ensillaba el rocín como tomaba la\n",
      "podadera. Frisaba la edad de nuestro hidalgo con los cincuenta años; era de\n",
      "complexión recia, seco de carnes, enjut\n"
     ]
    }
   ],
   "source": [
    "print(text[0:1000])"
   ]
  },
  {
   "cell_type": "code",
   "execution_count": 39,
   "id": "60bc7126-772c-48ed-aa5c-ad2ab7057854",
   "metadata": {},
   "outputs": [
    {
     "name": "stdout",
     "output_type": "stream",
     "text": [
      "Characters set: \n",
      " !\"'(),-.01234567:;?ABCDEFGHIJLMNOPQRSTUVWXYZabcdefghijlmnopqrstuvxyz¡«»¿ÁÉÍÓÚáéíñóúü\n",
      "Vocabulary size: 86\n"
     ]
    }
   ],
   "source": [
    "chars=sorted(list(set(text)))\n",
    "vocab_size=len(chars)\n",
    "print(\"Characters set: \" + \"\".join(chars))\n",
    "print(f\"Vocabulary size: {vocab_size}\")"
   ]
  },
  {
   "cell_type": "code",
   "execution_count": 40,
   "id": "087fa636-4f54-4b04-84aa-db35055ce249",
   "metadata": {},
   "outputs": [
    {
     "name": "stdout",
     "output_type": "stream",
     "text": [
      "[22, 65, 50, 58, 59, 63, 1, 49, 81, 46, 63, 1, 38, 46, 58, 48, 53, 59]\n",
      "Buenos días Sancho\n"
     ]
    }
   ],
   "source": [
    "# create a mapping from characters to integers\n",
    "stoi = { ch:i for i,ch in enumerate(chars) }\n",
    "itos = { i:ch for i,ch in enumerate(chars) }\n",
    "encode = lambda s: [stoi[c] for c in s] # encoder: take a string, output a list of integers\n",
    "decode = lambda l: ''.join([itos[i] for i in l]) # decoder: take a list of integers, output a string\n",
    "\n",
    "print(encode(\"Buenos días Sancho\"))\n",
    "print(decode(encode(\"Buenos días Sancho\")))"
   ]
  },
  {
   "cell_type": "code",
   "execution_count": 41,
   "id": "9812f41d-b646-4416-869d-40ec953a46ea",
   "metadata": {},
   "outputs": [
    {
     "name": "stdout",
     "output_type": "stream",
     "text": [
      "torch.Size([2062750]) torch.int64\n",
      "tensor([35, 62, 54, 57, 50, 62, 46,  1, 60, 46, 62, 64, 50,  1, 49, 50, 56,  1,\n",
      "        54, 58, 52, 50, 58, 54, 59, 63, 59,  1, 53, 54, 49, 46, 56, 52, 59,  1,\n",
      "        49, 59, 58,  1, 36, 65, 54, 55, 59, 64, 50,  1, 49, 50,  1, 56, 46,  1,\n",
      "        32, 46, 58, 48, 53, 46,  0, 23, 46, 60, 81, 64, 65, 56, 59,  1, 60, 62,\n",
      "        54, 57, 50, 62, 59,  9,  1, 36, 65, 50,  1, 64, 62, 46, 64, 46,  1, 49,\n",
      "        50,  1, 56, 46,  1, 48, 59, 58, 49, 54, 48, 54, 83, 58,  1, 68,  1, 50,\n",
      "        55, 50, 62, 48, 54, 48, 54, 59,  1, 49, 50, 56,  1, 51, 46, 57, 59, 63,\n",
      "        59,  1, 53, 54, 49, 46, 56, 52, 59,  0, 49, 59, 58,  1, 36, 65, 54, 55,\n",
      "        59, 64, 50,  1, 49, 50,  1, 56, 46,  1, 32, 46, 58, 48, 53, 46,  0, 25,\n",
      "        58,  1, 65, 58,  1, 56, 65, 52, 46, 62,  1, 49, 50,  1, 56, 46,  1, 32,\n",
      "        46, 58, 48, 53, 46,  7,  1, 49, 50,  1, 48, 65, 68, 59,  1, 58, 59, 57,\n",
      "        47, 62, 50,  1, 58, 59,  1, 61, 65, 54, 50, 62, 59,  1, 46, 48, 59, 62,\n",
      "        49, 46, 62, 57, 50,  7,  1, 58, 59,  1, 53, 46,  1, 57, 65, 48, 53, 59,\n",
      "         0, 64, 54, 50, 57, 60, 59,  1, 61, 65, 50,  1, 66, 54, 66, 81, 46,  1,\n",
      "        65, 58,  1, 53, 54, 49, 46, 56, 52, 59,  1, 49, 50,  1, 56, 59, 63,  1,\n",
      "        49, 50,  1, 56, 46, 58, 69, 46,  1, 50, 58,  1, 46, 63, 64, 54, 56, 56,\n",
      "        50, 62, 59,  7,  1, 46, 49, 46, 62, 52, 46,  1, 46, 58, 64, 54, 52, 65,\n",
      "        46,  7,  0, 62, 59, 48, 81, 58,  1, 51, 56, 46, 48, 59,  1, 68,  1, 52,\n",
      "        46, 56, 52, 59,  1, 48, 59, 62, 62, 50, 49, 59, 62,  9,  1, 40, 58, 46,\n",
      "         1, 59, 56, 56, 46,  1, 49, 50,  1, 46, 56, 52, 59,  1, 57, 79, 63,  1,\n",
      "        66, 46, 48, 46,  1, 61, 65, 50,  1, 48, 46, 62, 58, 50, 62, 59,  7,  0,\n",
      "        63, 46, 56, 60, 54, 48, 83, 58,  1, 56, 46, 63,  1, 57, 79, 63,  1, 58,\n",
      "        59, 48, 53, 50, 63,  7,  1, 49, 65, 50, 56, 59, 63,  1, 68,  1, 61, 65,\n",
      "        50, 47, 62, 46, 58, 64, 59, 63,  1, 56, 59, 63,  1, 63, 79, 47, 46, 49,\n",
      "        59, 63,  7,  1, 56, 46, 58, 64, 50, 55, 46, 63,  1, 56, 59, 63,  0, 66,\n",
      "        54, 50, 62, 58, 50, 63,  7,  1, 46, 56, 52, 84, 58,  1, 60, 46, 56, 59,\n",
      "        57, 54, 58, 59,  1, 49, 50,  1, 46, 82, 46, 49, 54, 49, 65, 62, 46,  1,\n",
      "        56, 59, 63,  1, 49, 59, 57, 54, 58, 52, 59, 63,  7,  1, 48, 59, 58, 63,\n",
      "        65, 57, 81, 46, 58,  1, 56, 46, 63,  1, 64, 62, 50, 63,  0, 60, 46, 62,\n",
      "        64, 50, 63,  1, 49, 50,  1, 63, 65,  1, 53, 46, 48, 54, 50, 58, 49, 46,\n",
      "         9,  1, 25, 56,  1, 62, 50, 63, 64, 59,  1, 49, 50, 56, 56, 46,  1, 48,\n",
      "        59, 58, 48, 56, 65, 81, 46, 58,  1, 63, 46, 68, 59,  1, 49, 50,  1, 66,\n",
      "        50, 56, 46, 62, 64, 50,  7,  1, 48, 46, 56, 69, 46, 63,  1, 49, 50,  0,\n",
      "        66, 50, 56, 56, 65, 49, 59,  1, 60, 46, 62, 46,  1, 56, 46, 63,  1, 51,\n",
      "        54, 50, 63, 64, 46, 63,  7,  1, 48, 59, 58,  1, 63, 65, 63,  1, 60, 46,\n",
      "        58, 64, 65, 51, 56, 59, 63,  1, 49, 50,  1, 56, 59,  1, 57, 50, 63, 57,\n",
      "        59,  7,  1, 68,  1, 56, 59, 63,  1, 49, 81, 46, 63,  1, 49, 50,  0, 50,\n",
      "        58, 64, 62, 50, 63, 50, 57, 46, 58, 46,  1, 63, 50,  1, 53, 59, 58, 62,\n",
      "        46, 47, 46,  1, 48, 59, 58,  1, 63, 65,  1, 66, 50, 56, 56, 59, 62, 81,\n",
      "         1, 49, 50,  1, 56, 59,  1, 57, 79, 63,  1, 51, 54, 58, 59,  9,  1, 39,\n",
      "        50, 58, 81, 46,  1, 50, 58,  1, 63, 65,  1, 48, 46, 63, 46,  1, 65, 58,\n",
      "        46,  0, 46, 57, 46,  1, 61, 65, 50,  1, 60, 46, 63, 46, 47, 46,  1, 49,\n",
      "        50,  1, 56, 59, 63,  1, 48, 65, 46, 62, 50, 58, 64, 46,  7,  1, 68,  1,\n",
      "        65, 58, 46,  1, 63, 59, 47, 62, 54, 58, 46,  1, 61, 65, 50,  1, 58, 59,\n",
      "         1, 56, 56, 50, 52, 46, 47, 46,  1, 46,  1, 56, 59, 63,  1, 66, 50, 54,\n",
      "        58, 64, 50,  7,  0, 68,  1, 65, 58,  1, 57, 59, 69, 59,  1, 49, 50,  1,\n",
      "        48, 46, 57, 60, 59,  1, 68,  1, 60, 56, 46, 69, 46,  7,  1, 61, 65, 50,\n",
      "         1, 46, 63, 81,  1, 50, 58, 63, 54, 56, 56, 46, 47, 46,  1, 50, 56,  1,\n",
      "        62, 59, 48, 81, 58,  1, 48, 59, 57, 59,  1, 64, 59, 57, 46, 47, 46,  1,\n",
      "        56, 46,  0, 60, 59, 49, 46, 49, 50, 62, 46,  9,  1, 26, 62, 54, 63, 46,\n",
      "        47, 46,  1, 56, 46,  1, 50, 49, 46, 49,  1, 49, 50,  1, 58, 65, 50, 63,\n",
      "        64, 62, 59,  1, 53, 54, 49, 46, 56, 52, 59,  1, 48, 59, 58,  1, 56, 59,\n",
      "        63,  1, 48, 54, 58, 48, 65, 50, 58, 64, 46,  1, 46, 82, 59, 63, 19,  1,\n",
      "        50, 62, 46,  1, 49, 50,  0, 48, 59, 57, 60, 56, 50, 67, 54, 83, 58,  1,\n",
      "        62, 50, 48, 54, 46,  7,  1, 63, 50, 48, 59,  1, 49, 50,  1, 48, 46, 62,\n",
      "        58, 50, 63,  7,  1, 50, 58, 55, 65, 64])\n"
     ]
    }
   ],
   "source": [
    "# let's now encode the entire text dataset and store it into a torch.Tensor\n",
    "import torch # we use PyTorch: https://pytorch.org\n",
    "data = torch.tensor(encode(text), dtype=torch.long)\n",
    "print(data.shape, data.dtype)\n",
    "print(data[:1000]) # the 1000 characters we looked at earier will to the GPT look like this"
   ]
  },
  {
   "cell_type": "code",
   "execution_count": 42,
   "id": "036515cc-6f21-4be7-9593-057932ee12ce",
   "metadata": {},
   "outputs": [],
   "source": [
    "# Let's now split up the data into train and validation sets\n",
    "n = int(0.9*len(data)) # first 90% will be train, rest val\n",
    "train_data = data[:n]\n",
    "val_data = data[n:]"
   ]
  },
  {
   "cell_type": "code",
   "execution_count": 43,
   "id": "8c94646b",
   "metadata": {},
   "outputs": [
    {
     "data": {
      "text/plain": [
       "tensor([35, 62, 54, 57, 50, 62, 46,  1, 60])"
      ]
     },
     "execution_count": 43,
     "metadata": {},
     "output_type": "execute_result"
    }
   ],
   "source": [
    "#context_lenght\n",
    "block_size = 8\n",
    "train_data[:block_size+1]"
   ]
  },
  {
   "cell_type": "code",
   "execution_count": 44,
   "id": "4899c177",
   "metadata": {},
   "outputs": [
    {
     "name": "stdout",
     "output_type": "stream",
     "text": [
      "when input is tensor([35]) the target: 62\n",
      "when input is tensor([35, 62]) the target: 54\n",
      "when input is tensor([35, 62, 54]) the target: 57\n",
      "when input is tensor([35, 62, 54, 57]) the target: 50\n",
      "when input is tensor([35, 62, 54, 57, 50]) the target: 62\n",
      "when input is tensor([35, 62, 54, 57, 50, 62]) the target: 46\n",
      "when input is tensor([35, 62, 54, 57, 50, 62, 46]) the target: 1\n",
      "when input is tensor([35, 62, 54, 57, 50, 62, 46,  1]) the target: 60\n"
     ]
    }
   ],
   "source": [
    "x = train_data[:block_size]\n",
    "y = train_data[1:block_size+1]\n",
    "for t in range(block_size):\n",
    "    context = x[:t+1]\n",
    "    target = y[t]\n",
    "    print(f\"when input is {context} the target: {target}\")"
   ]
  },
  {
   "cell_type": "code",
   "execution_count": 45,
   "id": "d090d46d",
   "metadata": {},
   "outputs": [
    {
     "name": "stdout",
     "output_type": "stream",
     "text": [
      "inputs:\n",
      "torch.Size([4, 8])\n",
      "tensor([[46, 57, 54, 63, 64, 46, 49,  7],\n",
      "        [59,  1, 56, 50,  1, 56, 46, 66],\n",
      "        [59,  9,  1, 25, 63,  7,  0, 60],\n",
      "        [ 1, 50, 56,  0, 63, 50, 82, 59]])\n",
      "targets:\n",
      "torch.Size([4, 8])\n",
      "tensor([[57, 54, 63, 64, 46, 49,  7,  1],\n",
      "        [ 1, 56, 50,  1, 56, 46, 66, 46],\n",
      "        [ 9,  1, 25, 63,  7,  0, 60, 65],\n",
      "        [50, 56,  0, 63, 50, 82, 59, 62]])\n",
      "----\n",
      "when input is [46] the target: 57\n",
      "when input is [46, 57] the target: 54\n",
      "when input is [46, 57, 54] the target: 63\n",
      "when input is [46, 57, 54, 63] the target: 64\n",
      "when input is [46, 57, 54, 63, 64] the target: 46\n",
      "when input is [46, 57, 54, 63, 64, 46] the target: 49\n",
      "when input is [46, 57, 54, 63, 64, 46, 49] the target: 7\n",
      "when input is [46, 57, 54, 63, 64, 46, 49, 7] the target: 1\n",
      "when input is [59] the target: 1\n",
      "when input is [59, 1] the target: 56\n",
      "when input is [59, 1, 56] the target: 50\n",
      "when input is [59, 1, 56, 50] the target: 1\n",
      "when input is [59, 1, 56, 50, 1] the target: 56\n",
      "when input is [59, 1, 56, 50, 1, 56] the target: 46\n",
      "when input is [59, 1, 56, 50, 1, 56, 46] the target: 66\n",
      "when input is [59, 1, 56, 50, 1, 56, 46, 66] the target: 46\n",
      "when input is [59] the target: 9\n",
      "when input is [59, 9] the target: 1\n",
      "when input is [59, 9, 1] the target: 25\n",
      "when input is [59, 9, 1, 25] the target: 63\n",
      "when input is [59, 9, 1, 25, 63] the target: 7\n",
      "when input is [59, 9, 1, 25, 63, 7] the target: 0\n",
      "when input is [59, 9, 1, 25, 63, 7, 0] the target: 60\n",
      "when input is [59, 9, 1, 25, 63, 7, 0, 60] the target: 65\n",
      "when input is [1] the target: 50\n",
      "when input is [1, 50] the target: 56\n",
      "when input is [1, 50, 56] the target: 0\n",
      "when input is [1, 50, 56, 0] the target: 63\n",
      "when input is [1, 50, 56, 0, 63] the target: 50\n",
      "when input is [1, 50, 56, 0, 63, 50] the target: 82\n",
      "when input is [1, 50, 56, 0, 63, 50, 82] the target: 59\n",
      "when input is [1, 50, 56, 0, 63, 50, 82, 59] the target: 62\n"
     ]
    }
   ],
   "source": [
    "torch.manual_seed(1337)\n",
    "batch_size = 4 # how many independent sequences will we process in parallel?\n",
    "block_size = 8 # what is the maximum context length for predictions?\n",
    "\n",
    "def get_batch(split):\n",
    "    # generate a small batch of data of inputs x and targets y\n",
    "    data = train_data if split == 'train' else val_data\n",
    "    # Get rand ints between 0 and len(data) - block_size, with a 1d array batch_size\n",
    "    ix = torch.randint(len(data) - block_size, (batch_size,))\n",
    "    x = torch.stack([data[i:i+block_size] for i in ix])\n",
    "    y = torch.stack([data[i+1:i+block_size+1] for i in ix])\n",
    "    return x, y\n",
    "\n",
    "xb, yb = get_batch('train')\n",
    "print('inputs:')\n",
    "print(xb.shape)\n",
    "print(xb)\n",
    "print('targets:')\n",
    "print(yb.shape)\n",
    "print(yb)\n",
    "\n",
    "print('----')\n",
    "\n",
    "for b in range(batch_size): # batch dimension\n",
    "    for t in range(block_size): # time dimension\n",
    "        context = xb[b, :t+1]\n",
    "        target = yb[b,t]\n",
    "        print(f\"when input is {context.tolist()} the target: {target}\")"
   ]
  },
  {
   "cell_type": "code",
   "execution_count": 46,
   "id": "6bd8fdaa",
   "metadata": {},
   "outputs": [
    {
     "name": "stdout",
     "output_type": "stream",
     "text": [
      "tensor([[46, 57, 54, 63, 64, 46, 49,  7],\n",
      "        [59,  1, 56, 50,  1, 56, 46, 66],\n",
      "        [59,  9,  1, 25, 63,  7,  0, 60],\n",
      "        [ 1, 50, 56,  0, 63, 50, 82, 59]])\n"
     ]
    }
   ],
   "source": [
    "print(xb) # our input to the transformer"
   ]
  },
  {
   "cell_type": "code",
   "execution_count": 47,
   "id": "b7f49478",
   "metadata": {},
   "outputs": [
    {
     "name": "stdout",
     "output_type": "stream",
     "text": [
      "torch.Size([32, 86])\n",
      "tensor(5.0861, grad_fn=<NllLossBackward0>)\n",
      "\n",
      "O6RJ»WaíéÉ'QGqzR\n",
      "CÉpVXs)6ÓóÓ »¡nzSW¡púÉbA\n",
      "iA)¿tfIJbIÓ¡¿Súóo!ú qÁEA6CTGíEuAgW4V.s»óHc,RvüEIVIQh2YUüIc\n"
     ]
    }
   ],
   "source": [
    "torch.manual_seed(1337)\n",
    "\n",
    "class BigramLanguageModel(nn.Module):\n",
    "\n",
    "    def __init__(self, vocab_size):\n",
    "        super().__init__()\n",
    "        # each token directly reads off the logits for the next token from a lookup table\n",
    "        self.token_embedding_table = nn.Embedding(vocab_size, vocab_size)\n",
    "\n",
    "    def forward(self, idx, targets=None):\n",
    "\n",
    "        # idx and targets are both (B,T) tensor of integers\n",
    "        logits = self.token_embedding_table(idx) # (B,T,C)\n",
    "\n",
    "        if targets is None:\n",
    "            loss = None\n",
    "        else:\n",
    "            B, T, C = logits.shape\n",
    "            logits = logits.view(B*T, C)\n",
    "            targets = targets.view(B*T)\n",
    "            loss = F.cross_entropy(logits, targets)\n",
    "\n",
    "        return logits, loss\n",
    "\n",
    "    def generate(self, idx, max_new_tokens):\n",
    "        # idx is (B, T) array of indices in the current context\n",
    "        for _ in range(max_new_tokens):\n",
    "            # get the predictions\n",
    "            logits, loss = self(idx)\n",
    "            # focus only on the last time step\n",
    "            logits = logits[:, -1, :] # becomes (B, C)\n",
    "            # apply softmax to get probabilities\n",
    "            probs = F.softmax(logits, dim=-1) # (B, C)\n",
    "            # sample from the distribution\n",
    "            idx_next = torch.multinomial(probs, num_samples=1) # (B, 1)\n",
    "            # append sampled index to the running sequence\n",
    "            idx = torch.cat((idx, idx_next), dim=1) # (B, T+1)\n",
    "        return idx\n",
    "\n",
    "m = BigramLanguageModel(vocab_size)\n",
    "logits, loss = m(xb, yb)\n",
    "print(logits.shape)\n",
    "print(loss)\n",
    "\n",
    "print(decode(m.generate(idx = torch.zeros((1, 1), dtype=torch.long), max_new_tokens=100)[0].tolist()))"
   ]
  },
  {
   "cell_type": "code",
   "execution_count": 48,
   "id": "1d4d8ed9",
   "metadata": {},
   "outputs": [],
   "source": [
    "# create a PyTorch optimizer\n",
    "optimizer = torch.optim.AdamW(m.parameters(), lr=1e-3)"
   ]
  },
  {
   "cell_type": "code",
   "execution_count": 49,
   "id": "8c41b1c6",
   "metadata": {},
   "outputs": [
    {
     "name": "stdout",
     "output_type": "stream",
     "text": [
      "2.1726417541503906\n"
     ]
    }
   ],
   "source": [
    "batch_size = 32\n",
    "for steps in range(10000): # increase number of steps for good results...\n",
    "\n",
    "    # sample a batch of data\n",
    "    xb, yb = get_batch('train')\n",
    "\n",
    "    # evaluate the loss\n",
    "    logits, loss = m(xb, yb)\n",
    "    optimizer.zero_grad(set_to_none=True)\n",
    "    loss.backward()\n",
    "    optimizer.step()\n",
    "\n",
    "print(loss.item())\n"
   ]
  },
  {
   "cell_type": "code",
   "execution_count": 50,
   "id": "4be8d2ac",
   "metadata": {},
   "outputs": [
    {
     "name": "stdout",
     "output_type": "stream",
     "text": [
      "\n",
      "dero-de y lodors, o, spejosíareterdal ue amasa denteco mo, mese hamos ba vielerder dicilles\n",
      "delo e n abrecoidi ancido as bide qu brqun prábimpo Y di destracieso\n",
      "cin.\n",
      "-AÓgui to vas, amenta ias co trtes\n",
      "níandala cuésilantrí ndres fue, l prmi quede que babren daza, Cuaseraren Esaseña marabía qucuso, vestele daue po ab(úbijuequan an e coprincie sijos, pome qusco pa de ha derdarr? Queñondes Ma güEs lia\n"
     ]
    }
   ],
   "source": [
    "print(decode(m.generate(idx = torch.zeros((1, 1), dtype=torch.long), max_new_tokens=400)[0].tolist()))"
   ]
  },
  {
   "cell_type": "markdown",
   "id": "ca8216b1",
   "metadata": {},
   "source": [
    "## The mathematical trick in self-attention"
   ]
  },
  {
   "cell_type": "code",
   "execution_count": 72,
   "id": "54b3bac8",
   "metadata": {},
   "outputs": [
    {
     "name": "stdout",
     "output_type": "stream",
     "text": [
      "a=\n",
      "tensor([[1.0000, 0.0000, 0.0000],\n",
      "        [0.5000, 0.5000, 0.0000],\n",
      "        [0.3333, 0.3333, 0.3333]])\n",
      "--\n",
      "b=\n",
      "tensor([[2., 7.],\n",
      "        [6., 4.],\n",
      "        [6., 5.]])\n",
      "--\n",
      "c=\n",
      "tensor([[2.0000, 7.0000],\n",
      "        [4.0000, 5.5000],\n",
      "        [4.6667, 5.3333]])\n"
     ]
    }
   ],
   "source": [
    "# toy example illustrating how matrix multiplication can be used for a \"weighted aggregation\"\n",
    "torch.manual_seed(42)\n",
    "a = torch.tril(torch.ones(3, 3))\n",
    "a = a / torch.sum(a, 1, keepdim=True)\n",
    "b = torch.randint(0,10,(3,2)).float()\n",
    "c = a @ b\n",
    "print('a=')\n",
    "print(a)\n",
    "print('--')\n",
    "print('b=')\n",
    "print(b)\n",
    "print('--')\n",
    "print('c=')\n",
    "print(c)"
   ]
  },
  {
   "cell_type": "code",
   "execution_count": 73,
   "id": "4b6b3455",
   "metadata": {},
   "outputs": [
    {
     "data": {
      "text/plain": [
       "torch.Size([4, 8, 2])"
      ]
     },
     "execution_count": 73,
     "metadata": {},
     "output_type": "execute_result"
    }
   ],
   "source": [
    "# consider the following toy example:\n",
    "torch.manual_seed(42)\n",
    "B,T,C = 4,8,2 # batch, time, channels\n",
    "x = torch.randn(B,T,C)\n",
    "x.shape"
   ]
  },
  {
   "cell_type": "code",
   "execution_count": 74,
   "id": "791cd709",
   "metadata": {},
   "outputs": [],
   "source": [
    "# We want x[b,t] = mean_{i<=t} x[b,i]\n",
    "xbow = torch.zeros((B,T,C))\n",
    "for b in range(B):\n",
    "    for t in range(T):\n",
    "        xprev = x[b,:t+1] # (t,C)\n",
    "        xbow[b,t] = torch.mean(xprev, 0)"
   ]
  },
  {
   "cell_type": "code",
   "execution_count": 75,
   "id": "00e55eed",
   "metadata": {},
   "outputs": [
    {
     "data": {
      "text/plain": [
       "True"
      ]
     },
     "execution_count": 75,
     "metadata": {},
     "output_type": "execute_result"
    }
   ],
   "source": [
    "# version 2: using matrix multiply for a weighted aggregation\n",
    "wei = torch.tril(torch.ones(T, T))\n",
    "wei = wei / wei.sum(1, keepdim=True)\n",
    "xbow2 = wei @ x # (B, T, T) @ (B, T, C) ----> (B, T, C)\n",
    "torch.allclose(xbow, xbow2)"
   ]
  },
  {
   "cell_type": "code",
   "execution_count": 76,
   "id": "a953beec",
   "metadata": {},
   "outputs": [
    {
     "data": {
      "text/plain": [
       "True"
      ]
     },
     "execution_count": 76,
     "metadata": {},
     "output_type": "execute_result"
    }
   ],
   "source": [
    "# version 3: use Softmax\n",
    "tril = torch.tril(torch.ones(T, T))\n",
    "wei = torch.zeros((T,T))\n",
    "wei = wei.masked_fill(tril == 0, float('-inf'))\n",
    "wei = F.softmax(wei, dim=-1)\n",
    "xbow3 = wei @ x\n",
    "torch.allclose(xbow, xbow3)"
   ]
  },
  {
   "cell_type": "code",
   "execution_count": 77,
   "id": "a7b3ab36",
   "metadata": {},
   "outputs": [
    {
     "data": {
      "text/plain": [
       "torch.Size([4, 8, 16])"
      ]
     },
     "execution_count": 77,
     "metadata": {},
     "output_type": "execute_result"
    }
   ],
   "source": [
    "# version 4: self-attention!\n",
    "torch.manual_seed(42)\n",
    "B,T,C = 4,8,32 # batch, time, channels\n",
    "x = torch.randn(B,T,C)\n",
    "\n",
    "# let's see a single Head perform self-attention\n",
    "head_size = 16\n",
    "key = nn.Linear(C, head_size, bias=False)\n",
    "query = nn.Linear(C, head_size, bias=False)\n",
    "value = nn.Linear(C, head_size, bias=False)\n",
    "k = key(x)   # (B, T, 16)\n",
    "q = query(x) # (B, T, 16)\n",
    "wei =  q @ k.transpose(-2, -1) # (B, T, 16) @ (B, 16, T) ---> (B, T, T)\n",
    "\n",
    "tril = torch.tril(torch.ones(T, T))\n",
    "#wei = torch.zeros((T,T))\n",
    "wei = wei.masked_fill(tril == 0, float('-inf'))\n",
    "wei = F.softmax(wei, dim=-1)\n",
    "\n",
    "v = value(x)\n",
    "out = wei @ v\n",
    "#out = wei @ x\n",
    "\n",
    "out.shape"
   ]
  },
  {
   "cell_type": "code",
   "execution_count": 78,
   "id": "3cbedf0a",
   "metadata": {},
   "outputs": [
    {
     "data": {
      "text/plain": [
       "tensor([[1.0000, 0.0000, 0.0000, 0.0000, 0.0000, 0.0000, 0.0000, 0.0000],\n",
       "        [0.1905, 0.8095, 0.0000, 0.0000, 0.0000, 0.0000, 0.0000, 0.0000],\n",
       "        [0.3742, 0.0568, 0.5690, 0.0000, 0.0000, 0.0000, 0.0000, 0.0000],\n",
       "        [0.1288, 0.3380, 0.1376, 0.3956, 0.0000, 0.0000, 0.0000, 0.0000],\n",
       "        [0.4311, 0.0841, 0.0582, 0.3049, 0.1217, 0.0000, 0.0000, 0.0000],\n",
       "        [0.0537, 0.3205, 0.0694, 0.2404, 0.2568, 0.0592, 0.0000, 0.0000],\n",
       "        [0.3396, 0.0149, 0.5165, 0.0180, 0.0658, 0.0080, 0.0373, 0.0000],\n",
       "        [0.0165, 0.0375, 0.0144, 0.1120, 0.0332, 0.4069, 0.3136, 0.0660]],\n",
       "       grad_fn=<SelectBackward0>)"
      ]
     },
     "execution_count": 78,
     "metadata": {},
     "output_type": "execute_result"
    }
   ],
   "source": [
    "wei[0]"
   ]
  },
  {
   "cell_type": "markdown",
   "id": "9a8118e8",
   "metadata": {},
   "source": [
    "Notes:\n",
    "- Attention is a **communication mechanism**. Can be seen as nodes in a directed graph looking at each other and aggregating information with a weighted sum from all nodes that point to them, with data-dependent weights.\n",
    "- There is no notion of space. Attention simply acts over a set of vectors. This is why we need to positionally encode tokens.\n",
    "- Each example across batch dimension is of course processed completely independently and never \"talk\" to each other\n",
    "- In an \"encoder\" attention block just delete the single line that does masking with `tril`, allowing all tokens to communicate. This block here is called a \"decoder\" attention block because it has triangular masking, and is usually used in autoregressive settings, like language modeling.\n",
    "- \"self-attention\" just means that the keys and values are produced from the same source as queries. In \"cross-attention\", the queries still get produced from x, but the keys and values come from some other, external source (e.g. an encoder module)\n",
    "- \"Scaled\" attention additional divides `wei` by 1/sqrt(head_size). This makes it so when input Q,K are unit variance, wei will be unit variance too and Softmax will stay diffuse and not saturate too much. Illustration below"
   ]
  },
  {
   "cell_type": "code",
   "execution_count": 79,
   "id": "82966558",
   "metadata": {},
   "outputs": [],
   "source": [
    "k = torch.randn(B,T,head_size)\n",
    "q = torch.randn(B,T,head_size)\n",
    "wei = q @ k.transpose(-2, -1) * head_size**-0.5"
   ]
  },
  {
   "cell_type": "code",
   "execution_count": 80,
   "id": "3a157ebc",
   "metadata": {},
   "outputs": [
    {
     "data": {
      "text/plain": [
       "tensor(1.0392)"
      ]
     },
     "execution_count": 80,
     "metadata": {},
     "output_type": "execute_result"
    }
   ],
   "source": [
    "k.var()"
   ]
  },
  {
   "cell_type": "code",
   "execution_count": 81,
   "id": "0805d3dc",
   "metadata": {},
   "outputs": [
    {
     "data": {
      "text/plain": [
       "tensor(0.9791)"
      ]
     },
     "execution_count": 81,
     "metadata": {},
     "output_type": "execute_result"
    }
   ],
   "source": [
    "q.var()"
   ]
  },
  {
   "cell_type": "code",
   "execution_count": 82,
   "id": "172c5a33",
   "metadata": {},
   "outputs": [
    {
     "data": {
      "text/plain": [
       "tensor(0.7791)"
      ]
     },
     "execution_count": 82,
     "metadata": {},
     "output_type": "execute_result"
    }
   ],
   "source": [
    "wei.var()"
   ]
  },
  {
   "cell_type": "code",
   "execution_count": 83,
   "id": "2fc26c7c",
   "metadata": {},
   "outputs": [
    {
     "data": {
      "text/plain": [
       "tensor([0.1925, 0.1426, 0.2351, 0.1426, 0.2872])"
      ]
     },
     "execution_count": 83,
     "metadata": {},
     "output_type": "execute_result"
    }
   ],
   "source": [
    "torch.softmax(torch.tensor([0.1, -0.2, 0.3, -0.2, 0.5]), dim=-1)"
   ]
  },
  {
   "cell_type": "code",
   "execution_count": 84,
   "id": "96f4630c",
   "metadata": {},
   "outputs": [
    {
     "data": {
      "text/plain": [
       "tensor([0.0326, 0.0030, 0.1615, 0.0030, 0.8000])"
      ]
     },
     "execution_count": 84,
     "metadata": {},
     "output_type": "execute_result"
    }
   ],
   "source": [
    "torch.softmax(torch.tensor([0.1, -0.2, 0.3, -0.2, 0.5])*8, dim=-1) # gets too peaky, converges to one-hot"
   ]
  },
  {
   "cell_type": "code",
   "execution_count": 85,
   "id": "56f7d158",
   "metadata": {},
   "outputs": [
    {
     "data": {
      "text/plain": [
       "torch.Size([32, 100])"
      ]
     },
     "execution_count": 85,
     "metadata": {},
     "output_type": "execute_result"
    }
   ],
   "source": [
    "class LayerNorm1d: # (used to be BatchNorm1d)\n",
    "\n",
    "  def __init__(self, dim, eps=1e-5, momentum=0.1):\n",
    "    self.eps = eps\n",
    "    self.gamma = torch.ones(dim)\n",
    "    self.beta = torch.zeros(dim)\n",
    "\n",
    "  def __call__(self, x):\n",
    "    # calculate the forward pass\n",
    "    xmean = x.mean(1, keepdim=True) # batch mean\n",
    "    xvar = x.var(1, keepdim=True) # batch variance\n",
    "    xhat = (x - xmean) / torch.sqrt(xvar + self.eps) # normalize to unit variance\n",
    "    self.out = self.gamma * xhat + self.beta\n",
    "    return self.out\n",
    "\n",
    "  def parameters(self):\n",
    "    return [self.gamma, self.beta]\n",
    "\n",
    "torch.manual_seed(1337)\n",
    "module = LayerNorm1d(100)\n",
    "x = torch.randn(32, 100) # batch size 32 of 100-dimensional vectors\n",
    "x = module(x)\n",
    "x.shape"
   ]
  },
  {
   "cell_type": "code",
   "execution_count": 86,
   "id": "c3e61b20",
   "metadata": {},
   "outputs": [
    {
     "data": {
      "text/plain": [
       "(tensor(0.1469), tensor(0.8803))"
      ]
     },
     "execution_count": 86,
     "metadata": {},
     "output_type": "execute_result"
    }
   ],
   "source": [
    "x[:,0].mean(), x[:,0].std() # mean,std of one feature across all batch inputs"
   ]
  },
  {
   "cell_type": "code",
   "execution_count": 87,
   "id": "f4dda817",
   "metadata": {},
   "outputs": [
    {
     "data": {
      "text/plain": [
       "(tensor(-9.5367e-09), tensor(1.0000))"
      ]
     },
     "execution_count": 87,
     "metadata": {},
     "output_type": "execute_result"
    }
   ],
   "source": [
    "x[0,:].mean(), x[0,:].std() # mean,std of a single input from the batch, of its features"
   ]
  },
  {
   "cell_type": "markdown",
   "id": "d56746e7",
   "metadata": {},
   "source": [
    "French to English translation example:\n",
    "\n",
    "<--------- ENCODE ------------------><--------------- DECODE ----------------->\n",
    "\n",
    "les réseaux de neurones sont géniaux! <START> neural networks are awesome!<END>\n",
    "\n",
    "\n"
   ]
  },
  {
   "cell_type": "markdown",
   "id": "807fb52c",
   "metadata": {},
   "source": []
  }
 ],
 "metadata": {
  "kernelspec": {
   "display_name": "env-xgpt",
   "language": "python",
   "name": "python3"
  },
  "language_info": {
   "codemirror_mode": {
    "name": "ipython",
    "version": 3
   },
   "file_extension": ".py",
   "mimetype": "text/x-python",
   "name": "python",
   "nbconvert_exporter": "python",
   "pygments_lexer": "ipython3",
   "version": "3.9.5"
  }
 },
 "nbformat": 4,
 "nbformat_minor": 5
}
